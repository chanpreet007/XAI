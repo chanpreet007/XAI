{
 "cells": [
  {
   "cell_type": "code",
   "execution_count": 2,
   "metadata": {
    "execution": {
     "iopub.execute_input": "2023-01-24T06:23:17.173282Z",
     "iopub.status.busy": "2023-01-24T06:23:17.172810Z",
     "iopub.status.idle": "2023-01-24T06:23:19.053924Z",
     "shell.execute_reply": "2023-01-24T06:23:19.052179Z",
     "shell.execute_reply.started": "2023-01-24T06:23:17.173190Z"
    }
   },
   "outputs": [
    {
     "name": "stdout",
     "output_type": "stream",
     "text": [
      "Collecting imblearn\n",
      "  Using cached imblearn-0.0-py2.py3-none-any.whl (1.9 kB)\n",
      "Collecting imbalanced-learn\n",
      "  Using cached imbalanced_learn-0.10.1-py3-none-any.whl (226 kB)\n",
      "Requirement already satisfied: threadpoolctl>=2.0.0 in c:\\users\\202277\\anaconda3\\lib\\site-packages (from imbalanced-learn->imblearn) (2.2.0)\n",
      "Requirement already satisfied: scipy>=1.3.2 in c:\\users\\202277\\anaconda3\\lib\\site-packages (from imbalanced-learn->imblearn) (1.10.0)\n",
      "Requirement already satisfied: joblib>=1.1.1 in c:\\users\\202277\\anaconda3\\lib\\site-packages (from imbalanced-learn->imblearn) (1.2.0)\n",
      "Requirement already satisfied: numpy>=1.17.3 in c:\\users\\202277\\anaconda3\\lib\\site-packages (from imbalanced-learn->imblearn) (1.20.3)\n",
      "Requirement already satisfied: scikit-learn>=1.0.2 in c:\\users\\202277\\anaconda3\\lib\\site-packages (from imbalanced-learn->imblearn) (1.2.0)\n",
      "Installing collected packages: imbalanced-learn, imblearn\n",
      "Successfully installed imbalanced-learn-0.10.1 imblearn-0.0\n"
     ]
    }
   ],
   "source": [
    "!pip install imblearn\n",
    "\n",
    "import pandas as pd \n",
    "import seaborn as sns\n",
    "import matplotlib.pyplot as plt\n",
    "# Makes sure we see all columns\n",
    "pd.set_option('display.max_columns', None)\n",
    "from sklearn.model_selection import train_test_split\n",
    "from imblearn.over_sampling import RandomOverSampler\n",
    "\n",
    "class DataLoader():\n",
    "    def __init__(self):\n",
    "        self.data = None\n",
    "\n",
    "    def load_dataset(self, path=\"data/healthcare-dataset-stroke-data.csv\"):\n",
    "        self.data = pd.read_csv(path)\n",
    "\n",
    "    def preprocess_data(self):\n",
    "        # One-hot encode all categorical columns\n",
    "        categorical_cols = [\"gender\",\n",
    "                            \"ever_married\",\n",
    "                            \"work_type\",\n",
    "                            \"Residence_type\",\n",
    "                            \"smoking_status\"]\n",
    "        encoded = pd.get_dummies(self.data[categorical_cols], \n",
    "                                prefix=categorical_cols)\n",
    "\n",
    "        # Update data with new columns\n",
    "        self.data = pd.concat([encoded, self.data], axis=1)\n",
    "        self.data.drop(categorical_cols, axis=1, inplace=True)\n",
    "\n",
    "        # Impute missing values of BMI\n",
    "        self.data.bmi = self.data.bmi.fillna(0)\n",
    "        \n",
    "        # Drop id as it is not relevant\n",
    "        self.data.drop([\"id\"], axis=1, inplace=True)\n",
    "\n",
    "        # Standardization \n",
    "        # Usually we would standardize here and convert it back later\n",
    "        # But for simplification we will not standardize / normalize the features\n",
    "\n",
    "    def get_data_split(self):\n",
    "        X = self.data.iloc[:,:-1]\n",
    "        y = self.data.iloc[:,-1]\n",
    "        return train_test_split(X, y, test_size=0.20, random_state=2021)\n",
    "    \n",
    "    def oversample(self, X_train, y_train):\n",
    "        oversample = RandomOverSampler(sampling_strategy='minority')\n",
    "        # Convert to numpy and oversample\n",
    "        x_np = X_train.to_numpy()\n",
    "        y_np = y_train.to_numpy()\n",
    "        x_np, y_np = oversample.fit_resample(x_np, y_np)\n",
    "        # Convert back to pandas\n",
    "        x_over = pd.DataFrame(x_np, columns=X_train.columns)\n",
    "        y_over = pd.Series(y_np, name=y_train.name)\n",
    "        return x_over, y_over\n",
    "    \n",
    "def get_unique_vals(data):\n",
    "    for column in data:\n",
    "        try:\n",
    "            unique_vals = np.unique(data[column])\n",
    "        except:\n",
    "            unique_vals = data[column].unique()\n",
    "\n",
    "        nr_values = len(unique_vals)\n",
    "        if nr_values < 10:\n",
    "            print('The number of values for feature {} :{} -- {}'.format(column, nr_values,unique_vals))\n",
    "        else:\n",
    "            print('The number of values for feature {} :{}'.format(column, nr_values))\n"
   ]
  },
  {
   "cell_type": "code",
   "execution_count": 3,
   "metadata": {
    "execution": {
     "iopub.execute_input": "2023-01-24T06:23:19.058095Z",
     "iopub.status.busy": "2023-01-24T06:23:19.057468Z",
     "iopub.status.idle": "2023-01-24T06:23:22.421942Z",
     "shell.execute_reply": "2023-01-24T06:23:22.420838Z",
     "shell.execute_reply.started": "2023-01-24T06:23:19.058042Z"
    }
   },
   "outputs": [],
   "source": [
    "df = pd.read_csv('./Covid Data.csv')\n",
    "df[\"DEATH\"] = [0 if each==\"9999-99-99\" else 1 for each in df.DATE_DIED]"
   ]
  },
  {
   "cell_type": "code",
   "execution_count": 4,
   "metadata": {
    "execution": {
     "iopub.execute_input": "2023-01-24T06:23:22.423924Z",
     "iopub.status.busy": "2023-01-24T06:23:22.423336Z",
     "iopub.status.idle": "2023-01-24T06:23:22.580266Z",
     "shell.execute_reply": "2023-01-24T06:23:22.578967Z",
     "shell.execute_reply.started": "2023-01-24T06:23:22.423890Z"
    }
   },
   "outputs": [
    {
     "data": {
      "text/plain": [
       "(76942, 22)"
      ]
     },
     "execution_count": 4,
     "metadata": {},
     "output_type": "execute_result"
    }
   ],
   "source": [
    "df[df.DEATH==1].shape"
   ]
  },
  {
   "cell_type": "code",
   "execution_count": 5,
   "metadata": {
    "execution": {
     "iopub.execute_input": "2023-01-24T06:23:22.584522Z",
     "iopub.status.busy": "2023-01-24T06:23:22.584009Z",
     "iopub.status.idle": "2023-01-24T06:23:22.722996Z",
     "shell.execute_reply": "2023-01-24T06:23:22.721703Z",
     "shell.execute_reply.started": "2023-01-24T06:23:22.584482Z"
    }
   },
   "outputs": [
    {
     "data": {
      "text/plain": [
       "(971633, 22)"
      ]
     },
     "execution_count": 5,
     "metadata": {},
     "output_type": "execute_result"
    }
   ],
   "source": [
    "df[df.DEATH==0].shape"
   ]
  },
  {
   "cell_type": "code",
   "execution_count": 6,
   "metadata": {
    "execution": {
     "iopub.execute_input": "2023-01-24T06:23:22.727336Z",
     "iopub.status.busy": "2023-01-24T06:23:22.726861Z",
     "iopub.status.idle": "2023-01-24T06:23:23.396938Z",
     "shell.execute_reply": "2023-01-24T06:23:23.395519Z",
     "shell.execute_reply.started": "2023-01-24T06:23:22.727295Z"
    }
   },
   "outputs": [
    {
     "name": "stdout",
     "output_type": "stream",
     "text": [
      "Percentage of missing values\n",
      "USMER                =>       0.00%\n",
      "MEDICAL_UNIT         =>       0.00%\n",
      "SEX                  =>       0.00%\n",
      "PATIENT_TYPE         =>       0.00%\n",
      "DATE_DIED            =>       0.00%\n",
      "INTUBED              =>      81.62%\n",
      "PNEUMONIA            =>       1.53%\n",
      "AGE                  =>       0.03%\n",
      "PREGNANT             =>      50.28%\n",
      "DIABETES             =>       0.32%\n",
      "COPD                 =>       0.29%\n",
      "ASTHMA               =>       0.28%\n",
      "INMSUPR              =>       0.32%\n",
      "HIPERTENSION         =>       0.30%\n",
      "OTHER_DISEASE        =>       0.48%\n",
      "CARDIOVASCULAR       =>       0.29%\n",
      "OBESITY              =>       0.29%\n",
      "RENAL_CHRONIC        =>       0.29%\n",
      "TOBACCO              =>       0.31%\n",
      "CLASIFFICATION_FINAL =>       0.00%\n",
      "ICU                  =>      81.64%\n",
      "DEATH                =>       0.00%\n"
     ]
    }
   ],
   "source": [
    "print('Percentage of missing values')\n",
    "for col in df.columns :\n",
    "    print('{:<20} => {:>10.2f}%'.format(col, len(df[(df[col]==98) | (df[col]==99) | (df[col]==97)])/len(df)*100))"
   ]
  },
  {
   "cell_type": "code",
   "execution_count": 7,
   "metadata": {
    "execution": {
     "iopub.execute_input": "2023-01-24T06:23:23.399713Z",
     "iopub.status.busy": "2023-01-24T06:23:23.398910Z",
     "iopub.status.idle": "2023-01-24T06:23:23.671838Z",
     "shell.execute_reply": "2023-01-24T06:23:23.670531Z",
     "shell.execute_reply.started": "2023-01-24T06:23:23.399672Z"
    }
   },
   "outputs": [
    {
     "name": "stdout",
     "output_type": "stream",
     "text": [
      "The number of values for feature USMER :2 -- [2 1]\n",
      "The number of values for feature MEDICAL_UNIT :13\n",
      "The number of values for feature SEX :2 -- [1 2]\n",
      "The number of values for feature PATIENT_TYPE :2 -- [1 2]\n",
      "The number of values for feature PNEUMONIA :3 -- [ 1  2 99]\n",
      "The number of values for feature AGE :121\n",
      "The number of values for feature PREGNANT :4 -- [ 2 97 98  1]\n",
      "The number of values for feature DIABETES :3 -- [ 2  1 98]\n",
      "The number of values for feature COPD :3 -- [ 2  1 98]\n",
      "The number of values for feature ASTHMA :3 -- [ 2  1 98]\n",
      "The number of values for feature INMSUPR :3 -- [ 2  1 98]\n",
      "The number of values for feature HIPERTENSION :3 -- [ 1  2 98]\n",
      "The number of values for feature OTHER_DISEASE :3 -- [ 2  1 98]\n",
      "The number of values for feature CARDIOVASCULAR :3 -- [ 2  1 98]\n",
      "The number of values for feature OBESITY :3 -- [ 2  1 98]\n",
      "The number of values for feature RENAL_CHRONIC :3 -- [ 2  1 98]\n",
      "The number of values for feature TOBACCO :3 -- [ 2  1 98]\n",
      "The number of values for feature CLASIFFICATION_FINAL :7 -- [3 5 7 6 1 2 4]\n",
      "The number of values for feature DEATH :2 -- [1 0]\n"
     ]
    }
   ],
   "source": [
    "df=df.drop(columns=['INTUBED','ICU','DATE_DIED'],axis=0)\n",
    "get_unique_vals(df)"
   ]
  },
  {
   "cell_type": "code",
   "execution_count": 8,
   "metadata": {
    "execution": {
     "iopub.execute_input": "2023-01-24T06:23:23.674107Z",
     "iopub.status.busy": "2023-01-24T06:23:23.673586Z",
     "iopub.status.idle": "2023-01-24T06:23:23.721920Z",
     "shell.execute_reply": "2023-01-24T06:23:23.720563Z",
     "shell.execute_reply.started": "2023-01-24T06:23:23.674068Z"
    }
   },
   "outputs": [
    {
     "name": "stdout",
     "output_type": "stream",
     "text": [
      "<class 'pandas.core.frame.DataFrame'>\n",
      "RangeIndex: 1048575 entries, 0 to 1048574\n",
      "Data columns (total 19 columns):\n",
      " #   Column                Non-Null Count    Dtype\n",
      "---  ------                --------------    -----\n",
      " 0   USMER                 1048575 non-null  int64\n",
      " 1   MEDICAL_UNIT          1048575 non-null  int64\n",
      " 2   SEX                   1048575 non-null  int64\n",
      " 3   PATIENT_TYPE          1048575 non-null  int64\n",
      " 4   PNEUMONIA             1048575 non-null  int64\n",
      " 5   AGE                   1048575 non-null  int64\n",
      " 6   PREGNANT              1048575 non-null  int64\n",
      " 7   DIABETES              1048575 non-null  int64\n",
      " 8   COPD                  1048575 non-null  int64\n",
      " 9   ASTHMA                1048575 non-null  int64\n",
      " 10  INMSUPR               1048575 non-null  int64\n",
      " 11  HIPERTENSION          1048575 non-null  int64\n",
      " 12  OTHER_DISEASE         1048575 non-null  int64\n",
      " 13  CARDIOVASCULAR        1048575 non-null  int64\n",
      " 14  OBESITY               1048575 non-null  int64\n",
      " 15  RENAL_CHRONIC         1048575 non-null  int64\n",
      " 16  TOBACCO               1048575 non-null  int64\n",
      " 17  CLASIFFICATION_FINAL  1048575 non-null  int64\n",
      " 18  DEATH                 1048575 non-null  int64\n",
      "dtypes: int64(19)\n",
      "memory usage: 152.0 MB\n"
     ]
    }
   ],
   "source": [
    "df.info()"
   ]
  },
  {
   "cell_type": "code",
   "execution_count": 9,
   "metadata": {
    "execution": {
     "iopub.execute_input": "2023-01-24T06:23:23.723928Z",
     "iopub.status.busy": "2023-01-24T06:23:23.723536Z",
     "iopub.status.idle": "2023-01-24T06:23:24.922475Z",
     "shell.execute_reply": "2023-01-24T06:23:24.921113Z",
     "shell.execute_reply.started": "2023-01-24T06:23:23.723892Z"
    }
   },
   "outputs": [],
   "source": [
    "binary = ['PNEUMONIA','DIABETES', 'COPD', 'ASTHMA', 'INMSUPR','HIPERTENSION', \n",
    "        'OTHER_DISEASE', 'CARDIOVASCULAR', 'OBESITY','RENAL_CHRONIC', 'TOBACCO']\n",
    "\n",
    "for col in binary :\n",
    "    df = df[(df[col] == 1)|(df[col] == 2)]"
   ]
  },
  {
   "cell_type": "code",
   "execution_count": 10,
   "metadata": {
    "execution": {
     "iopub.execute_input": "2023-01-24T06:23:24.925067Z",
     "iopub.status.busy": "2023-01-24T06:23:24.924386Z",
     "iopub.status.idle": "2023-01-24T06:23:27.857572Z",
     "shell.execute_reply": "2023-01-24T06:23:27.856101Z",
     "shell.execute_reply.started": "2023-01-24T06:23:24.925028Z"
    }
   },
   "outputs": [
    {
     "data": {
      "image/png": "[encoded data removed]",
      "text/plain": [
       "<Figure size 432x288 with 1 Axes>"
      ]
     },
     "metadata": {
      "needs_background": "light"
     },
     "output_type": "display_data"
    },
    {
     "data": {
      "image/png": "[encoded data removed]",
      "text/plain": [
       "<Figure size 432x288 with 1 Axes>"
      ]
     },
     "metadata": {
      "needs_background": "light"
     },
     "output_type": "display_data"
    },
    {
     "data": {
      "image/png": "[encoded data removed]",
      "text/plain": [
       "<Figure size 432x288 with 1 Axes>"
      ]
     },
     "metadata": {
      "needs_background": "light"
     },
     "output_type": "display_data"
    },
    {
     "data": {
      "image/png": "[encoded data removed]",
      "text/plain": [
       "<Figure size 432x288 with 1 Axes>"
      ]
     },
     "metadata": {
      "needs_background": "light"
     },
     "output_type": "display_data"
    },
    {
     "data": {
      "image/png": "[encoded data removed]",
      "text/plain": [
       "<Figure size 432x288 with 1 Axes>"
      ]
     },
     "metadata": {
      "needs_background": "light"
     },
     "output_type": "display_data"
    },
    {
     "data": {
      "image/png": "[encoded data removed]",
      "text/plain": [
       "<Figure size 432x288 with 1 Axes>"
      ]
     },
     "metadata": {
      "needs_background": "light"
     },
     "output_type": "display_data"
    },
    {
     "data": {
      "image/png": "[encoded data removed]",
      "text/plain": [
       "<Figure size 432x288 with 1 Axes>"
      ]
     },
     "metadata": {
      "needs_background": "light"
     },
     "output_type": "display_data"
    },
    {
     "data": {
      "image/png": "[encoded data removed]",
      "text/plain": [
       "<Figure size 432x288 with 1 Axes>"
      ]
     },
     "metadata": {
      "needs_background": "light"
     },
     "output_type": "display_data"
    },
    {
     "data": {
      "image/png": "[encoded data removed]",
      "text/plain": [
       "<Figure size 432x288 with 1 Axes>"
      ]
     },
     "metadata": {
      "needs_background": "light"
     },
     "output_type": "display_data"
    },
    {
     "data": {
      "image/png": "[encoded data removed]",
      "text/plain": [
       "<Figure size 432x288 with 1 Axes>"
      ]
     },
     "metadata": {
      "needs_background": "light"
     },
     "output_type": "display_data"
    },
    {
     "data": {
      "image/png": "[encoded data removed]",
      "text/plain": [
       "<Figure size 432x288 with 1 Axes>"
      ]
     },
     "metadata": {
      "needs_background": "light"
     },
     "output_type": "display_data"
    }
   ],
   "source": [
    "for i in binary:\n",
    "    sns.countplot(x=df[i])\n",
    "    plt.ylabel('Survival Probability')\n",
    "    plt.title('Survival Probability by '+ i)\n",
    "    plt.show()"
   ]
  },
  {
   "cell_type": "code",
   "execution_count": 11,
   "metadata": {
    "execution": {
     "iopub.execute_input": "2023-01-24T06:23:27.860892Z",
     "iopub.status.busy": "2023-01-24T06:23:27.859991Z",
     "iopub.status.idle": "2023-01-24T06:23:27.918035Z",
     "shell.execute_reply": "2023-01-24T06:23:27.916635Z",
     "shell.execute_reply.started": "2023-01-24T06:23:27.860849Z"
    }
   },
   "outputs": [],
   "source": [
    "x = df.drop(columns=\"DEATH\")\n",
    "y= df[\"DEATH\"]"
   ]
  },
  {
   "cell_type": "code",
   "execution_count": 12,
   "metadata": {
    "execution": {
     "iopub.execute_input": "2023-01-24T06:23:27.920843Z",
     "iopub.status.busy": "2023-01-24T06:23:27.920048Z",
     "iopub.status.idle": "2023-01-24T06:23:28.285338Z",
     "shell.execute_reply": "2023-01-24T06:23:28.284229Z",
     "shell.execute_reply.started": "2023-01-24T06:23:27.920804Z"
    }
   },
   "outputs": [
    {
     "name": "stdout",
     "output_type": "stream",
     "text": [
      "Train_x : (820121, 18)\n",
      "Test_x : (205031, 18)\n",
      "Train_y : (820121,)\n",
      "Test_y : (205031,)\n"
     ]
    }
   ],
   "source": [
    "X_train, X_test, Y_train, Y_test = train_test_split(x,y, test_size=0.2, random_state=42)\n",
    "print(\"Train_x :\",X_train.shape)\n",
    "print(\"Test_x :\",X_test.shape)\n",
    "print(\"Train_y :\",Y_train.shape)\n",
    "print(\"Test_y :\",Y_test.shape)"
   ]
  },
  {
   "cell_type": "code",
   "execution_count": 13,
   "metadata": {
    "execution": {
     "iopub.execute_input": "2023-01-24T06:23:28.287339Z",
     "iopub.status.busy": "2023-01-24T06:23:28.286967Z",
     "iopub.status.idle": "2023-01-24T06:23:50.753272Z",
     "shell.execute_reply": "2023-01-24T06:23:50.751823Z",
     "shell.execute_reply.started": "2023-01-24T06:23:28.287305Z"
    }
   },
   "outputs": [
    {
     "name": "stdout",
     "output_type": "stream",
     "text": [
      "Collecting interpret\n",
      "  Using cached interpret-0.3.0-py3-none-any.whl (1.4 kB)\n",
      "Collecting interpret-core[dash,debug,decisiontree,ebm,lime,linear,notebook,plotly,required,sensitivity,shap,skoperules,treeinterpreter]>=0.3.0\n",
      "  Using cached interpret_core-0.3.0-py3-none-any.whl (8.9 MB)\n",
      "Collecting plotly>=3.8.1\n",
      "  Using cached plotly-5.13.0-py2.py3-none-any.whl (15.2 MB)\n",
      "Collecting lime>=0.1.1.33\n",
      "  Using cached lime-0.2.0.1-py3-none-any.whl\n",
      "Requirement already satisfied: joblib>=0.11 in c:\\users\\202277\\anaconda3\\lib\\site-packages (from interpret-core[dash,debug,decisiontree,ebm,lime,linear,notebook,plotly,required,sensitivity,shap,skoperules,treeinterpreter]>=0.3.0->interpret) (1.2.0)\n",
      "Requirement already satisfied: ipykernel>=5.1.0 in c:\\users\\202277\\anaconda3\\lib\\site-packages (from interpret-core[dash,debug,decisiontree,ebm,lime,linear,notebook,plotly,required,sensitivity,shap,skoperules,treeinterpreter]>=0.3.0->interpret) (6.4.1)\n",
      "Requirement already satisfied: ipython>=7.4.0 in c:\\users\\202277\\anaconda3\\lib\\site-packages (from interpret-core[dash,debug,decisiontree,ebm,lime,linear,notebook,plotly,required,sensitivity,shap,skoperules,treeinterpreter]>=0.3.0->interpret) (7.29.0)\n",
      "Collecting skope-rules>=1.0.1\n",
      "  Using cached skope_rules-1.0.1-py3-none-any.whl (14 kB)\n",
      "Collecting SALib>=1.3.3\n",
      "  Using cached salib-1.4.7-py3-none-any.whl (757 kB)\n",
      "Collecting treeinterpreter>=0.2.2\n",
      "  Using cached treeinterpreter-0.2.3-py2.py3-none-any.whl (6.0 kB)\n",
      "Collecting dill>=0.2.5\n",
      "  Using cached dill-0.3.6-py3-none-any.whl (110 kB)\n",
      "Collecting shap>=0.28.5\n",
      "  Using cached shap-0.41.0-cp39-cp39-win_amd64.whl (435 kB)\n",
      "Requirement already satisfied: gevent>=1.3.6 in c:\\users\\202277\\anaconda3\\lib\\site-packages (from interpret-core[dash,debug,decisiontree,ebm,lime,linear,notebook,plotly,required,sensitivity,shap,skoperules,treeinterpreter]>=0.3.0->interpret) (21.8.0)\n",
      "Collecting dash-cytoscape>=0.1.1\n",
      "  Using cached dash_cytoscape-0.3.0-py3-none-any.whl (3.6 MB)\n",
      "Collecting dash-table>=4.1.0\n",
      "  Using cached dash_table-5.0.0-py3-none-any.whl (3.9 kB)\n",
      "Requirement already satisfied: requests>=2.19.0 in c:\\users\\202277\\anaconda3\\lib\\site-packages (from interpret-core[dash,debug,decisiontree,ebm,lime,linear,notebook,plotly,required,sensitivity,shap,skoperules,treeinterpreter]>=0.3.0->interpret) (2.26.0)\n",
      "Collecting dash>=1.0.0\n",
      "  Using cached dash-2.7.1-py3-none-any.whl (9.9 MB)\n",
      "Requirement already satisfied: psutil>=5.6.2 in c:\\users\\202277\\anaconda3\\lib\\site-packages (from interpret-core[dash,debug,decisiontree,ebm,lime,linear,notebook,plotly,required,sensitivity,shap,skoperules,treeinterpreter]>=0.3.0->interpret) (5.8.0)\n",
      "Requirement already satisfied: pandas>=0.19.2 in c:\\users\\202277\\anaconda3\\lib\\site-packages (from interpret-core[dash,debug,decisiontree,ebm,lime,linear,notebook,plotly,required,sensitivity,shap,skoperules,treeinterpreter]>=0.3.0->interpret) (1.3.4)\n",
      "Requirement already satisfied: scipy>=0.18.1 in c:\\users\\202277\\anaconda3\\lib\\site-packages (from interpret-core[dash,debug,decisiontree,ebm,lime,linear,notebook,plotly,required,sensitivity,shap,skoperules,treeinterpreter]>=0.3.0->interpret) (1.10.0)\n",
      "Requirement already satisfied: numpy>=1.11.1 in c:\\users\\202277\\anaconda3\\lib\\site-packages (from interpret-core[dash,debug,decisiontree,ebm,lime,linear,notebook,plotly,required,sensitivity,shap,skoperules,treeinterpreter]>=0.3.0->interpret) (1.20.3)\n",
      "Requirement already satisfied: scikit-learn>=0.18.1 in c:\\users\\202277\\anaconda3\\lib\\site-packages (from interpret-core[dash,debug,decisiontree,ebm,lime,linear,notebook,plotly,required,sensitivity,shap,skoperules,treeinterpreter]>=0.3.0->interpret) (1.2.0)\n",
      "Collecting dash-html-components==2.0.0\n",
      "  Using cached dash_html_components-2.0.0-py3-none-any.whl (4.1 kB)\n",
      "Collecting dash-core-components==2.0.0\n",
      "  Using cached dash_core_components-2.0.0-py3-none-any.whl (3.8 kB)\n",
      "Requirement already satisfied: Flask>=1.0.4 in c:\\users\\202277\\anaconda3\\lib\\site-packages (from dash>=1.0.0->interpret-core[dash,debug,decisiontree,ebm,lime,linear,notebook,plotly,required,sensitivity,shap,skoperules,treeinterpreter]>=0.3.0->interpret) (1.1.2)\n",
      "Requirement already satisfied: itsdangerous>=0.24 in c:\\users\\202277\\anaconda3\\lib\\site-packages (from Flask>=1.0.4->dash>=1.0.0->interpret-core[dash,debug,decisiontree,ebm,lime,linear,notebook,plotly,required,sensitivity,shap,skoperules,treeinterpreter]>=0.3.0->interpret) (2.0.1)\n",
      "Requirement already satisfied: Jinja2>=2.10.1 in c:\\users\\202277\\anaconda3\\lib\\site-packages (from Flask>=1.0.4->dash>=1.0.0->interpret-core[dash,debug,decisiontree,ebm,lime,linear,notebook,plotly,required,sensitivity,shap,skoperules,treeinterpreter]>=0.3.0->interpret) (2.11.3)\n",
      "Requirement already satisfied: click>=5.1 in c:\\users\\202277\\anaconda3\\lib\\site-packages (from Flask>=1.0.4->dash>=1.0.0->interpret-core[dash,debug,decisiontree,ebm,lime,linear,notebook,plotly,required,sensitivity,shap,skoperules,treeinterpreter]>=0.3.0->interpret) (8.0.3)\n",
      "Requirement already satisfied: Werkzeug>=0.15 in c:\\users\\202277\\anaconda3\\lib\\site-packages (from Flask>=1.0.4->dash>=1.0.0->interpret-core[dash,debug,decisiontree,ebm,lime,linear,notebook,plotly,required,sensitivity,shap,skoperules,treeinterpreter]>=0.3.0->interpret) (2.0.2)\n",
      "Requirement already satisfied: colorama in c:\\users\\202277\\anaconda3\\lib\\site-packages (from click>=5.1->Flask>=1.0.4->dash>=1.0.0->interpret-core[dash,debug,decisiontree,ebm,lime,linear,notebook,plotly,required,sensitivity,shap,skoperules,treeinterpreter]>=0.3.0->interpret) (0.4.4)\n",
      "Requirement already satisfied: setuptools in c:\\users\\202277\\anaconda3\\lib\\site-packages (from gevent>=1.3.6->interpret-core[dash,debug,decisiontree,ebm,lime,linear,notebook,plotly,required,sensitivity,shap,skoperules,treeinterpreter]>=0.3.0->interpret) (58.0.4)\n",
      "Requirement already satisfied: greenlet<2.0,>=1.1.0 in c:\\users\\202277\\anaconda3\\lib\\site-packages (from gevent>=1.3.6->interpret-core[dash,debug,decisiontree,ebm,lime,linear,notebook,plotly,required,sensitivity,shap,skoperules,treeinterpreter]>=0.3.0->interpret) (1.1.1)\n",
      "Requirement already satisfied: zope.event in c:\\users\\202277\\anaconda3\\lib\\site-packages (from gevent>=1.3.6->interpret-core[dash,debug,decisiontree,ebm,lime,linear,notebook,plotly,required,sensitivity,shap,skoperules,treeinterpreter]>=0.3.0->interpret) (4.5.0)\n",
      "Requirement already satisfied: zope.interface in c:\\users\\202277\\anaconda3\\lib\\site-packages (from gevent>=1.3.6->interpret-core[dash,debug,decisiontree,ebm,lime,linear,notebook,plotly,required,sensitivity,shap,skoperules,treeinterpreter]>=0.3.0->interpret) (5.4.0)\n",
      "Requirement already satisfied: cffi>=1.12.2 in c:\\users\\202277\\anaconda3\\lib\\site-packages (from gevent>=1.3.6->interpret-core[dash,debug,decisiontree,ebm,lime,linear,notebook,plotly,required,sensitivity,shap,skoperules,treeinterpreter]>=0.3.0->interpret) (1.14.6)\n",
      "Requirement already satisfied: pycparser in c:\\users\\202277\\anaconda3\\lib\\site-packages (from cffi>=1.12.2->gevent>=1.3.6->interpret-core[dash,debug,decisiontree,ebm,lime,linear,notebook,plotly,required,sensitivity,shap,skoperules,treeinterpreter]>=0.3.0->interpret) (2.20)\n",
      "Requirement already satisfied: traitlets<6.0,>=4.1.0 in c:\\users\\202277\\anaconda3\\lib\\site-packages (from ipykernel>=5.1.0->interpret-core[dash,debug,decisiontree,ebm,lime,linear,notebook,plotly,required,sensitivity,shap,skoperules,treeinterpreter]>=0.3.0->interpret) (5.1.0)\n",
      "Requirement already satisfied: ipython-genutils in c:\\users\\202277\\anaconda3\\lib\\site-packages (from ipykernel>=5.1.0->interpret-core[dash,debug,decisiontree,ebm,lime,linear,notebook,plotly,required,sensitivity,shap,skoperules,treeinterpreter]>=0.3.0->interpret) (0.2.0)\n",
      "Requirement already satisfied: matplotlib-inline<0.2.0,>=0.1.0 in c:\\users\\202277\\anaconda3\\lib\\site-packages (from ipykernel>=5.1.0->interpret-core[dash,debug,decisiontree,ebm,lime,linear,notebook,plotly,required,sensitivity,shap,skoperules,treeinterpreter]>=0.3.0->interpret) (0.1.2)\n",
      "Requirement already satisfied: tornado<7.0,>=4.2 in c:\\users\\202277\\anaconda3\\lib\\site-packages (from ipykernel>=5.1.0->interpret-core[dash,debug,decisiontree,ebm,lime,linear,notebook,plotly,required,sensitivity,shap,skoperules,treeinterpreter]>=0.3.0->interpret) (6.1)\n",
      "Requirement already satisfied: jupyter-client<8.0 in c:\\users\\202277\\anaconda3\\lib\\site-packages (from ipykernel>=5.1.0->interpret-core[dash,debug,decisiontree,ebm,lime,linear,notebook,plotly,required,sensitivity,shap,skoperules,treeinterpreter]>=0.3.0->interpret) (6.1.12)\n",
      "Requirement already satisfied: debugpy<2.0,>=1.0.0 in c:\\users\\202277\\anaconda3\\lib\\site-packages (from ipykernel>=5.1.0->interpret-core[dash,debug,decisiontree,ebm,lime,linear,notebook,plotly,required,sensitivity,shap,skoperules,treeinterpreter]>=0.3.0->interpret) (1.4.1)\n",
      "Requirement already satisfied: prompt-toolkit!=3.0.0,!=3.0.1,<3.1.0,>=2.0.0 in c:\\users\\202277\\anaconda3\\lib\\site-packages (from ipython>=7.4.0->interpret-core[dash,debug,decisiontree,ebm,lime,linear,notebook,plotly,required,sensitivity,shap,skoperules,treeinterpreter]>=0.3.0->interpret) (3.0.20)\n",
      "Requirement already satisfied: backcall in c:\\users\\202277\\anaconda3\\lib\\site-packages (from ipython>=7.4.0->interpret-core[dash,debug,decisiontree,ebm,lime,linear,notebook,plotly,required,sensitivity,shap,skoperules,treeinterpreter]>=0.3.0->interpret) (0.2.0)\n",
      "Requirement already satisfied: pickleshare in c:\\users\\202277\\anaconda3\\lib\\site-packages (from ipython>=7.4.0->interpret-core[dash,debug,decisiontree,ebm,lime,linear,notebook,plotly,required,sensitivity,shap,skoperules,treeinterpreter]>=0.3.0->interpret) (0.7.5)\n",
      "Requirement already satisfied: decorator in c:\\users\\202277\\anaconda3\\lib\\site-packages (from ipython>=7.4.0->interpret-core[dash,debug,decisiontree,ebm,lime,linear,notebook,plotly,required,sensitivity,shap,skoperules,treeinterpreter]>=0.3.0->interpret) (5.1.0)\n",
      "Requirement already satisfied: pygments in c:\\users\\202277\\anaconda3\\lib\\site-packages (from ipython>=7.4.0->interpret-core[dash,debug,decisiontree,ebm,lime,linear,notebook,plotly,required,sensitivity,shap,skoperules,treeinterpreter]>=0.3.0->interpret) (2.10.0)\n",
      "Requirement already satisfied: jedi>=0.16 in c:\\users\\202277\\anaconda3\\lib\\site-packages (from ipython>=7.4.0->interpret-core[dash,debug,decisiontree,ebm,lime,linear,notebook,plotly,required,sensitivity,shap,skoperules,treeinterpreter]>=0.3.0->interpret) (0.18.0)\n",
      "Requirement already satisfied: parso<0.9.0,>=0.8.0 in c:\\users\\202277\\anaconda3\\lib\\site-packages (from jedi>=0.16->ipython>=7.4.0->interpret-core[dash,debug,decisiontree,ebm,lime,linear,notebook,plotly,required,sensitivity,shap,skoperules,treeinterpreter]>=0.3.0->interpret) (0.8.2)\n",
      "Requirement already satisfied: MarkupSafe>=0.23 in c:\\users\\202277\\anaconda3\\lib\\site-packages (from Jinja2>=2.10.1->Flask>=1.0.4->dash>=1.0.0->interpret-core[dash,debug,decisiontree,ebm,lime,linear,notebook,plotly,required,sensitivity,shap,skoperules,treeinterpreter]>=0.3.0->interpret) (1.1.1)\n",
      "Requirement already satisfied: python-dateutil>=2.1 in c:\\users\\202277\\anaconda3\\lib\\site-packages (from jupyter-client<8.0->ipykernel>=5.1.0->interpret-core[dash,debug,decisiontree,ebm,lime,linear,notebook,plotly,required,sensitivity,shap,skoperules,treeinterpreter]>=0.3.0->interpret) (2.8.2)\n",
      "Requirement already satisfied: pyzmq>=13 in c:\\users\\202277\\anaconda3\\lib\\site-packages (from jupyter-client<8.0->ipykernel>=5.1.0->interpret-core[dash,debug,decisiontree,ebm,lime,linear,notebook,plotly,required,sensitivity,shap,skoperules,treeinterpreter]>=0.3.0->interpret) (22.2.1)\n",
      "Requirement already satisfied: jupyter-core>=4.6.0 in c:\\users\\202277\\anaconda3\\lib\\site-packages (from jupyter-client<8.0->ipykernel>=5.1.0->interpret-core[dash,debug,decisiontree,ebm,lime,linear,notebook,plotly,required,sensitivity,shap,skoperules,treeinterpreter]>=0.3.0->interpret) (4.8.1)\n",
      "Requirement already satisfied: pywin32>=1.0 in c:\\users\\202277\\anaconda3\\lib\\site-packages (from jupyter-core>=4.6.0->jupyter-client<8.0->ipykernel>=5.1.0->interpret-core[dash,debug,decisiontree,ebm,lime,linear,notebook,plotly,required,sensitivity,shap,skoperules,treeinterpreter]>=0.3.0->interpret) (228)\n",
      "Requirement already satisfied: scikit-image>=0.12 in c:\\users\\202277\\anaconda3\\lib\\site-packages (from lime>=0.1.1.33->interpret-core[dash,debug,decisiontree,ebm,lime,linear,notebook,plotly,required,sensitivity,shap,skoperules,treeinterpreter]>=0.3.0->interpret) (0.18.3)\n",
      "Requirement already satisfied: matplotlib in c:\\users\\202277\\anaconda3\\lib\\site-packages (from lime>=0.1.1.33->interpret-core[dash,debug,decisiontree,ebm,lime,linear,notebook,plotly,required,sensitivity,shap,skoperules,treeinterpreter]>=0.3.0->interpret) (3.4.3)\n",
      "Requirement already satisfied: tqdm in c:\\users\\202277\\anaconda3\\lib\\site-packages (from lime>=0.1.1.33->interpret-core[dash,debug,decisiontree,ebm,lime,linear,notebook,plotly,required,sensitivity,shap,skoperules,treeinterpreter]>=0.3.0->interpret) (4.62.3)\n",
      "Requirement already satisfied: pytz>=2017.3 in c:\\users\\202277\\anaconda3\\lib\\site-packages (from pandas>=0.19.2->interpret-core[dash,debug,decisiontree,ebm,lime,linear,notebook,plotly,required,sensitivity,shap,skoperules,treeinterpreter]>=0.3.0->interpret) (2021.3)\n",
      "Requirement already satisfied: tenacity>=6.2.0 in c:\\users\\202277\\anaconda3\\lib\\site-packages (from plotly>=3.8.1->interpret-core[dash,debug,decisiontree,ebm,lime,linear,notebook,plotly,required,sensitivity,shap,skoperules,treeinterpreter]>=0.3.0->interpret) (8.1.0)\n",
      "Requirement already satisfied: wcwidth in c:\\users\\202277\\anaconda3\\lib\\site-packages (from prompt-toolkit!=3.0.0,!=3.0.1,<3.1.0,>=2.0.0->ipython>=7.4.0->interpret-core[dash,debug,decisiontree,ebm,lime,linear,notebook,plotly,required,sensitivity,shap,skoperules,treeinterpreter]>=0.3.0->interpret) (0.2.5)\n",
      "Requirement already satisfied: six>=1.5 in c:\\users\\202277\\anaconda3\\lib\\site-packages (from python-dateutil>=2.1->jupyter-client<8.0->ipykernel>=5.1.0->interpret-core[dash,debug,decisiontree,ebm,lime,linear,notebook,plotly,required,sensitivity,shap,skoperules,treeinterpreter]>=0.3.0->interpret) (1.16.0)\n",
      "Requirement already satisfied: urllib3<1.27,>=1.21.1 in c:\\users\\202277\\anaconda3\\lib\\site-packages (from requests>=2.19.0->interpret-core[dash,debug,decisiontree,ebm,lime,linear,notebook,plotly,required,sensitivity,shap,skoperules,treeinterpreter]>=0.3.0->interpret) (1.26.7)\n",
      "Requirement already satisfied: certifi>=2017.4.17 in c:\\users\\202277\\anaconda3\\lib\\site-packages (from requests>=2.19.0->interpret-core[dash,debug,decisiontree,ebm,lime,linear,notebook,plotly,required,sensitivity,shap,skoperules,treeinterpreter]>=0.3.0->interpret) (2021.10.8)\n",
      "Requirement already satisfied: idna<4,>=2.5 in c:\\users\\202277\\anaconda3\\lib\\site-packages (from requests>=2.19.0->interpret-core[dash,debug,decisiontree,ebm,lime,linear,notebook,plotly,required,sensitivity,shap,skoperules,treeinterpreter]>=0.3.0->interpret) (3.2)\n",
      "Requirement already satisfied: charset-normalizer~=2.0.0 in c:\\users\\202277\\anaconda3\\lib\\site-packages (from requests>=2.19.0->interpret-core[dash,debug,decisiontree,ebm,lime,linear,notebook,plotly,required,sensitivity,shap,skoperules,treeinterpreter]>=0.3.0->interpret) (2.0.4)\n",
      "Collecting multiprocess\n",
      "  Using cached multiprocess-0.70.14-py39-none-any.whl (132 kB)\n",
      "Requirement already satisfied: pillow>=6.2.0 in c:\\users\\202277\\anaconda3\\lib\\site-packages (from matplotlib->lime>=0.1.1.33->interpret-core[dash,debug,decisiontree,ebm,lime,linear,notebook,plotly,required,sensitivity,shap,skoperules,treeinterpreter]>=0.3.0->interpret) (8.4.0)\n",
      "Requirement already satisfied: kiwisolver>=1.0.1 in c:\\users\\202277\\anaconda3\\lib\\site-packages (from matplotlib->lime>=0.1.1.33->interpret-core[dash,debug,decisiontree,ebm,lime,linear,notebook,plotly,required,sensitivity,shap,skoperules,treeinterpreter]>=0.3.0->interpret) (1.3.1)\n",
      "Requirement already satisfied: cycler>=0.10 in c:\\users\\202277\\anaconda3\\lib\\site-packages (from matplotlib->lime>=0.1.1.33->interpret-core[dash,debug,decisiontree,ebm,lime,linear,notebook,plotly,required,sensitivity,shap,skoperules,treeinterpreter]>=0.3.0->interpret) (0.10.0)\n",
      "Requirement already satisfied: pyparsing>=2.2.1 in c:\\users\\202277\\anaconda3\\lib\\site-packages (from matplotlib->lime>=0.1.1.33->interpret-core[dash,debug,decisiontree,ebm,lime,linear,notebook,plotly,required,sensitivity,shap,skoperules,treeinterpreter]>=0.3.0->interpret) (3.0.4)\n",
      "Requirement already satisfied: networkx>=2.0 in c:\\users\\202277\\anaconda3\\lib\\site-packages (from scikit-image>=0.12->lime>=0.1.1.33->interpret-core[dash,debug,decisiontree,ebm,lime,linear,notebook,plotly,required,sensitivity,shap,skoperules,treeinterpreter]>=0.3.0->interpret) (2.6.3)\n",
      "Requirement already satisfied: imageio>=2.3.0 in c:\\users\\202277\\anaconda3\\lib\\site-packages (from scikit-image>=0.12->lime>=0.1.1.33->interpret-core[dash,debug,decisiontree,ebm,lime,linear,notebook,plotly,required,sensitivity,shap,skoperules,treeinterpreter]>=0.3.0->interpret) (2.9.0)\n",
      "Requirement already satisfied: tifffile>=2019.7.26 in c:\\users\\202277\\anaconda3\\lib\\site-packages (from scikit-image>=0.12->lime>=0.1.1.33->interpret-core[dash,debug,decisiontree,ebm,lime,linear,notebook,plotly,required,sensitivity,shap,skoperules,treeinterpreter]>=0.3.0->interpret) (2021.7.2)\n",
      "Requirement already satisfied: PyWavelets>=1.1.1 in c:\\users\\202277\\anaconda3\\lib\\site-packages (from scikit-image>=0.12->lime>=0.1.1.33->interpret-core[dash,debug,decisiontree,ebm,lime,linear,notebook,plotly,required,sensitivity,shap,skoperules,treeinterpreter]>=0.3.0->interpret) (1.1.1)\n",
      "Requirement already satisfied: threadpoolctl>=2.0.0 in c:\\users\\202277\\anaconda3\\lib\\site-packages (from scikit-learn>=0.18.1->interpret-core[dash,debug,decisiontree,ebm,lime,linear,notebook,plotly,required,sensitivity,shap,skoperules,treeinterpreter]>=0.3.0->interpret) (2.2.0)\n",
      "Requirement already satisfied: cloudpickle in c:\\users\\202277\\anaconda3\\lib\\site-packages (from shap>=0.28.5->interpret-core[dash,debug,decisiontree,ebm,lime,linear,notebook,plotly,required,sensitivity,shap,skoperules,treeinterpreter]>=0.3.0->interpret) (2.0.0)\n",
      "Collecting slicer==0.0.7\n",
      "  Using cached slicer-0.0.7-py3-none-any.whl (14 kB)\n",
      "Requirement already satisfied: packaging>20.9 in c:\\users\\202277\\anaconda3\\lib\\site-packages (from shap>=0.28.5->interpret-core[dash,debug,decisiontree,ebm,lime,linear,notebook,plotly,required,sensitivity,shap,skoperules,treeinterpreter]>=0.3.0->interpret) (21.0)\n",
      "Requirement already satisfied: numba in c:\\users\\202277\\anaconda3\\lib\\site-packages (from shap>=0.28.5->interpret-core[dash,debug,decisiontree,ebm,lime,linear,notebook,plotly,required,sensitivity,shap,skoperules,treeinterpreter]>=0.3.0->interpret) (0.54.1)\n",
      "Requirement already satisfied: llvmlite<0.38,>=0.37.0rc1 in c:\\users\\202277\\anaconda3\\lib\\site-packages (from numba->shap>=0.28.5->interpret-core[dash,debug,decisiontree,ebm,lime,linear,notebook,plotly,required,sensitivity,shap,skoperules,treeinterpreter]>=0.3.0->interpret) (0.37.0)\n",
      "Installing collected packages: plotly, dill, dash-table, dash-html-components, dash-core-components, slicer, multiprocess, dash, treeinterpreter, skope-rules, shap, SALib, lime, interpret-core, dash-cytoscape, interpret\n",
      "Successfully installed SALib-1.4.7 dash-2.7.1 dash-core-components-2.0.0 dash-cytoscape-0.3.0 dash-html-components-2.0.0 dash-table-5.0.0 dill-0.3.6 interpret-0.3.0 interpret-core-0.3.0 lime-0.2.0.1 multiprocess-0.70.14 plotly-5.13.0 shap-0.41.0 skope-rules-1.0.1 slicer-0.0.7 treeinterpreter-0.2.3\n"
     ]
    }
   ],
   "source": [
    "!pip install interpret\n"
   ]
  },
  {
   "cell_type": "code",
   "execution_count": 14,
   "metadata": {
    "execution": {
     "iopub.execute_input": "2023-01-24T06:23:50.756531Z",
     "iopub.status.busy": "2023-01-24T06:23:50.755498Z",
     "iopub.status.idle": "2023-01-24T06:24:43.630283Z",
     "shell.execute_reply": "2023-01-24T06:24:43.628794Z",
     "shell.execute_reply.started": "2023-01-24T06:23:50.756477Z"
    }
   },
   "outputs": [
    {
     "name": "stdout",
     "output_type": "stream",
     "text": [
      "Training finished.\n"
     ]
    }
   ],
   "source": [
    "from interpret.glassbox import (LogisticRegression,\n",
    "                                ClassificationTree, \n",
    "                                ExplainableBoostingClassifier)\n",
    "from interpret import show\n",
    "from sklearn.metrics import f1_score, accuracy_score\n",
    "\n",
    "lr = LogisticRegression(random_state=2021, feature_names=X_train.columns, penalty='l1', solver='liblinear')\n",
    "lr.fit(X_train, Y_train)\n",
    "print(\"Training finished.\")"
   ]
  },
  {
   "cell_type": "code",
   "execution_count": 15,
   "metadata": {
    "execution": {
     "iopub.execute_input": "2023-01-24T06:26:03.463069Z",
     "iopub.status.busy": "2023-01-24T06:26:03.462607Z",
     "iopub.status.idle": "2023-01-24T06:26:21.203735Z",
     "shell.execute_reply": "2023-01-24T06:26:21.202326Z",
     "shell.execute_reply.started": "2023-01-24T06:26:03.463030Z"
    },
    "scrolled": true
   },
   "outputs": [
    {
     "name": "stdout",
     "output_type": "stream",
     "text": [
      "F1 Score 0.7358589979442347\n",
      "Accuracy 0.938233730509045\n"
     ]
    },
    {
     "data": {
      "text/html": [
       "<!-- http://127.0.0.1:7001/2742946132032/ -->\n",
       "<iframe src=\"http://127.0.0.1:7001/2742946132032/\" width=100% height=800 frameBorder=\"0\"></iframe>"
      ]
     },
     "metadata": {},
     "output_type": "display_data"
    },
    {
     "data": {
      "text/html": [
       "<!-- http://127.0.0.1:7001/2742947070880/ -->\n",
       "<iframe src=\"http://127.0.0.1:7001/2742947070880/\" width=100% height=800 frameBorder=\"0\"></iframe>"
      ]
     },
     "metadata": {},
     "output_type": "display_data"
    },
    {
     "name": "stdout",
     "output_type": "stream",
     "text": [
      "Training finished.\n",
      "F1 Score 0.7358589979442347\n",
      "Accuracy 0.938233730509045\n"
     ]
    }
   ],
   "source": [
    "# %% Evaluate logistic regression model\n",
    "Y_pred = lr.predict(X_test)\n",
    "print(f\"F1 Score {f1_score(Y_test, Y_pred, average='macro')}\")\n",
    "print(f\"Accuracy {accuracy_score(Y_test, Y_pred)}\")\n",
    "\n",
    "# %% Explain local prediction\n",
    "lr_local = lr.explain_local(X_test[:100], Y_test[:100], name='Logistic Regression')\n",
    "show(lr_local)\n",
    "\n",
    "# %% Explain global logistic regression model\n",
    "lr_global = lr.explain_global(name='Logistic Regression')\n",
    "show(lr_global)\n",
    "\n",
    "# %% Fit decision tree model\n",
    "tree = ClassificationTree()\n",
    "tree.fit(X_train, Y_train)\n",
    "print(\"Training finished.\")\n",
    "y_pred = tree.predict(X_test)\n",
    "print(f\"F1 Score {f1_score(Y_test, Y_pred, average='macro')}\")\n",
    "print(f\"Accuracy {accuracy_score(Y_test, Y_pred)}\")"
   ]
  },
  {
   "cell_type": "code",
   "execution_count": 16,
   "metadata": {
    "execution": {
     "iopub.execute_input": "2023-01-24T06:37:27.855212Z",
     "iopub.status.busy": "2023-01-24T06:37:27.854711Z",
     "iopub.status.idle": "2023-01-24T06:37:28.461348Z",
     "shell.execute_reply": "2023-01-24T06:37:28.459995Z",
     "shell.execute_reply.started": "2023-01-24T06:37:27.855174Z"
    }
   },
   "outputs": [
    {
     "data": {
      "text/html": [
       "<!-- http://127.0.0.1:7001/2742946132032/ -->\n",
       "<iframe src=\"http://127.0.0.1:7001/2742946132032/\" width=100% height=800 frameBorder=\"0\"></iframe>"
      ]
     },
     "metadata": {},
     "output_type": "display_data"
    }
   ],
   "source": []
  },
  {
   "cell_type": "code",
   "execution_count": null,
   "metadata": {},
   "outputs": [],
   "source": []
  }
 ],
 "metadata": {
  "kernelspec": {
   "display_name": "Python 3 (ipykernel)",
   "language": "python",
   "name": "python3"
  },
  "language_info": {
   "codemirror_mode": {
    "name": "ipython",
    "version": 3
   },
   "file_extension": ".py",
   "mimetype": "text/x-python",
   "name": "python",
   "nbconvert_exporter": "python",
   "pygments_lexer": "ipython3",
   "version": "3.9.7"
  }
 },
 "nbformat": 4,
 "nbformat_minor": 4
}
